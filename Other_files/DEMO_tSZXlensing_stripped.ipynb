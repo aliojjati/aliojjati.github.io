{
 "cells": [
  {
   "cell_type": "markdown",
   "metadata": {},
   "source": [
    "### This is a demo code, as part of the pipeline for computing the tSZ comptonization y - Lensing convergence or tangential shear cross correlations, from CFHTLenS, RCSLenS or KiDS data. \n",
    "\n",
    "###The y maps are either from Planck data or from maps made at UBC."
   ]
  },
  {
   "cell_type": "code",
   "execution_count": null,
   "metadata": {
    "collapsed": false
   },
   "outputs": [],
   "source": [
    "%matplotlib inline\n",
    "import numpy as np\n",
    "import matplotlib.pyplot as plt\n",
    "import matplotlib.patches\n",
    "import astropy.io.fits\n",
    "import healpy as hp\n",
    "import scipy.special\n",
    "import scipy.interpolate\n",
    "import os\n",
    "import collections\n",
    "\n",
    "pi = np.pi\n"
   ]
  },
  {
   "cell_type": "code",
   "execution_count": null,
   "metadata": {
    "collapsed": true
   },
   "outputs": [],
   "source": [
    "def create_tSZ_catalog(fields, y_map_file, y_map_mask_file, shear_path, pad, output_path, survey):\n",
    "    y_map = hp.read_map(y_map_file, field=0)\n",
    "    y_map_mask = hp.read_map(y_map_mask_file, field=4)\n",
    "\n",
    "    for field in fields:\n",
    "        shear_filename = shear_path + \"{}.fits\".format(field)\n",
    "\n",
    "        field_info = np.loadtxt(shear_filename + \"_sizeinfo.dat\")\n",
    "        print(\"Field: \" + field)\n",
    "        bbox = np.array([[field_info[0,0]-pad, field_info[1,0]-pad], \n",
    "                         [field_info[0,1]+pad, field_info[1,0]-pad], \n",
    "                         [field_info[0,1]+pad, field_info[1,1]+pad],\n",
    "                         [field_info[0,0]-pad, field_info[1,1]+pad]])\n",
    "        tSZ_output = output_path + \"{}.fits\".format(field)\n",
    "        tpcf_formats.create_standard_catalog_from_healpix_map(y_map, bbox, tSZ_output, y_map_mask, use_fits=True, field=field, survey=survey)\n",
    "\n",
    "    del y_map\n",
    "    del y_map_mask"
   ]
  },
  {
   "cell_type": "markdown",
   "metadata": {},
   "source": [
    "### Creating tSZ catalogs from maps (fits files):"
   ]
  },
  {
   "cell_type": "markdown",
   "metadata": {},
   "source": [
    "### RCSLenS:"
   ]
  },
  {
   "cell_type": "code",
   "execution_count": null,
   "metadata": {
    "collapsed": true
   },
   "outputs": [],
   "source": [
    "pad_RCSLenS = 4.0\n",
    "\n",
    "y_map_file = \"/shared_data/Planck_data/COM_Compton_SZMap_R2.00/milca_ymaps.fits\"\n",
    "mask_file = \"/shared_data/Planck_data/COM_Compton_SZMap_R2.00/masks.fits\"\n",
    "\n",
    "RCSLenS_fields = [\"CDE0047\", \"CDE0133\", \"CDE0310\", \"CDE0357\", \"CDE1040\", \"CDE1111\", \"CDE1303\", \"CDE1514\", \"CDE1613\", \"CDE1645\", \"CDE2143\", \"CDE2329\", \"CDE2338\", \"CSP0320\"]\n",
    "shear_path = \"/data/aha25/shear_catalogs/RCSLenS/mag_18_30/\"\n",
    "output_path = \"/data/aha25/tSZ/tSZ_data/RCSLenS/pad{}/\".format(pad_RCSLenS)\n",
    "create_tSZ_catalog(RCSLenS_fields, y_map_file, mask_file, shear_path, pad_RCSLenS, output_path, survey=\"RCSLenS\")\n"
   ]
  },
  {
   "cell_type": "markdown",
   "metadata": {},
   "source": [
    "#### Grid the data "
   ]
  },
  {
   "cell_type": "code",
   "execution_count": null,
   "metadata": {
    "collapsed": false
   },
   "outputs": [],
   "source": [
    "RCSLenS_fields = [\"CDE0047\", \"CDE0133\", \"CDE0310\", \"CDE0357\", \"CDE1040\", \"CDE1111\", \"CDE1303\", \"CDE1514\", \"CDE1613\", \"CDE1645\", \"CDE2143\", \"CDE2329\", \"CDE2338\", \"CSP0320\"]\n",
    "for field in RCSLenS_fields:\n",
    "    lenses_filename = \"/home/aha25/y_maps/{}_y_planck_milca_2048_big_new.fits\".format(field)\n",
    "    tSZ_map_output = \"/data/aha25/tSZ/tSZ_data/RCSLenS_grid/pad2/{}.fits\".format(field)\n",
    "    tpcf_formats.create_catalog_from_grids(mode=\"lenses\", \n",
    "                                           filename=lenses_filename, output_filename=tSZ_map_output, \n",
    "                                           pixel_size=1.0/60.0, weight_filename=None, remove_mean=True, \n",
    "                                           survey=\"RCSLenS\", field=field)"
   ]
  },
  {
   "cell_type": "markdown",
   "metadata": {},
   "source": [
    "# Calculate 2-point correlation function:"
   ]
  },
  {
   "cell_type": "code",
   "execution_count": null,
   "metadata": {
    "collapsed": true
   },
   "outputs": [],
   "source": [
    "tpcf_path = \"/data/aha25/tpcf/calculate_shear_2pcf\"\n",
    "tpcf_path_debug = \"/data/aha25/tpcf/calculate_shear_2pcf_debug\"\n",
    "\n",
    "bootstrap_configs = [#{\"n_resample\" : 10000, \"type\" : \"field-equal-weight-blocks\", \"n_x_block\" : None, \"n_y_block\" : None, \"n_block_total\" : 40, \"supersampling\" : None, \"n_run\" : 1},\n",
    "                     {\"n_resample\" : 10000, \"type\" : \"field-equal-weight-blocks\", \"n_x_block\" : None, \"n_y_block\" : None, \"n_block_total\" : 80, \"supersampling\" : None, \"n_run\" : 1},\n",
    "                     {\"n_resample\" : 10000, \"type\" : \"field-equal-weight-blocks\", \"n_x_block\" : None, \"n_y_block\" : None, \"n_block_total\" : 160, \"supersampling\" : None, \"n_run\" : 1},\n",
    "                     {\"n_resample\" : 10000, \"type\" : \"field-rectangular-blocks\", \"n_x_block\" : 5, \"n_y_block\" : 5, \"n_block_total\" : None, \"supersampling\" : None, \"n_run\" : 1},\n",
    "                     {\"n_resample\" : 10000, \"type\" : \"field-rectangular-blocks\", \"n_x_block\" : 10, \"n_y_block\" : 10, \"n_block_total\" : None, \"supersampling\" : None, \"n_run\" : 1}]\n",
    "\n",
    "n_threads = 10"
   ]
  },
  {
   "cell_type": "markdown",
   "metadata": {},
   "source": [
    "### 2pcf"
   ]
  },
  {
   "cell_type": "code",
   "execution_count": null,
   "metadata": {
    "collapsed": true
   },
   "outputs": [],
   "source": [
    "marks_file = \"/data/aha25/tpcf_marks/CFHTLenS/CFHTLenS_kappa_scale_{}_theta_{}_{}_nbin_{}_{}_pad{}_marks.fits\".format(scale_CFHTLenS, theta_min_CFHTLenS*60.0, theta_max_CFHTLenS*60.0, n_bin_CFHTLenS, bin_type_CFHTLenS, pad_CFHTLenS)\n",
    "\n",
    "foreground_path = \"/data/aha25/tSZ/tSZ_data/CFHTLenS/pad{}/\".format(pad_CFHTLenS)\n",
    "tpcf_output_path = \"/data/aha25/tSZ/tpcf/CFHTLenS_kappa/scale{}/\".format(scale_CFHTLenS)\n",
    "tpcf_formats.mkdirs(tpcf_output_path)\n",
    "tpcf_driver.run_marks_crosscorrelation(\"kappa\", foreground_path=foreground_path, marks_file=marks_file, tpcf_output_path=tpcf_output_path, \n",
    "                                       fields=CFHTLenS_fields, \n",
    "                                       n_bin=n_bin_CFHTLenS, theta_min=theta_min_CFHTLenS, theta_max=theta_max_CFHTLenS, logspaced=logspaced_CFHTLenS, \n",
    "                                       bootstrap_configs=bootstrap_configs, \n",
    "                                       n_thread=n_threads, tpcf_path=tpcf_path, verbose=True)"
   ]
  },
  {
   "cell_type": "code",
   "execution_count": null,
   "metadata": {
    "collapsed": true
   },
   "outputs": [],
   "source": [
    "tSZ_path = os.path.join(\"/data/aha25/tSZ/tSZ_data/sims/\", cosmology_sims, feedback_model_sims)\n",
    "shear_path =  os.path.join(\"/data/aha25/shear_catalogs/cosmo-OWLS/\", n_z_sims, cosmology_sims, feedback_model_sims)\n",
    "kappa_path =  os.path.join(\"/data/aha25/massmaps/cosmo-OWLS/\", n_z_sims, cosmology_sims, feedback_model_sims)\n",
    "\n",
    "for i in range(n_LOS):\n",
    "    tpcf_output_base_path = \"/data/aha25/tSZ/tpcf/cosmo-OWLS/{}/\".format(i)\n",
    "    if not os.access(tpcf_output_base_path, os.F_OK):\n",
    "        os.mkdir(tpcf_output_base_path)\n",
    "    if not os.access(os.path.join(tpcf_output_base_path, n_z_sims), os.F_OK):\n",
    "        os.mkdir(os.path.join(tpcf_output_base_path, n_z_sims))\n",
    "    if not os.access(os.path.join(tpcf_output_base_path, n_z_sims, cosmology_sims), os.F_OK):\n",
    "        os.mkdir(os.path.join(tpcf_output_base_path, n_z_sims, cosmology_sims))\n",
    "    if not os.access(os.path.join(tpcf_output_base_path, n_z_sims, cosmology_sims, feedback_model_sims), os.F_OK):\n",
    "        os.mkdir(os.path.join(tpcf_output_base_path, n_z_sims, cosmology_sims, feedback_model_sims))\n",
    "    tpcf_output_path = os.path.join(tpcf_output_base_path, n_z_sims, cosmology_sims, feedback_model_sims)\n",
    "    \n",
    "    LOS = [\"cone_{}\".format(i)]\n",
    "    tpcf_driver.run_standard_crosscorrelation(mode=\"tangential-shear\", \n",
    "                                              foreground_path=tSZ_path, background_path=shear_path, tpcf_output_path=tpcf_output_path, \n",
    "                                              fields=LOS, \n",
    "                                              n_bin=n_bin_sims, theta_min=theta_min_sims, theta_max=theta_max_sims, logspaced=logspaced_sims, \n",
    "                                              bootstrap_configs=None, \n",
    "                                              spherical_coordinates=False, left_handed_coordinates=True, kdtree=False,\n",
    "                                              calculate_tpcf=True, n_thread=20)\n",
    "\n",
    "\n",
    "for i in range(n_LOS):\n",
    "    tpcf_output_base_path = \"/data/aha25/tSZ/tpcf/cosmo-OWLS_kappa/{}/\".format(i)\n",
    "    if not os.access(tpcf_output_base_path, os.F_OK):\n",
    "        os.mkdir(tpcf_output_base_path)\n",
    "    if not os.access(os.path.join(tpcf_output_base_path, n_z_sims), os.F_OK):\n",
    "        os.mkdir(os.path.join(tpcf_output_base_path, n_z_sims))\n",
    "    if not os.access(os.path.join(tpcf_output_base_path, n_z_sims, cosmology_sims), os.F_OK):\n",
    "        os.mkdir(os.path.join(tpcf_output_base_path, n_z_sims, cosmology_sims))\n",
    "    if not os.access(os.path.join(tpcf_output_base_path, n_z_sims, cosmology_sims, feedback_model_sims), os.F_OK):\n",
    "        os.mkdir(os.path.join(tpcf_output_base_path, n_z_sims, cosmology_sims, feedback_model_sims))\n",
    "    tpcf_output_path = os.path.join(tpcf_output_base_path, n_z_sims, cosmology_sims, feedback_model_sims)    \n",
    "    \n",
    "    LOS = [\"cone_{}\".format(i)]\n",
    "    tpcf_driver.run_standard_crosscorrelation(mode=\"kappa\", \n",
    "                                              foreground_path=tSZ_path, background_path=kappa_path, tpcf_output_path=tpcf_output_path, \n",
    "                                              fields=LOS, \n",
    "                                              n_bin=n_bin_sims, theta_min=theta_min_sims, theta_max=theta_max_sims, logspaced=logspaced_sims, \n",
    "                                              bootstrap_configs=None, \n",
    "                                              spherical_coordinates=False, left_handed_coordinates=False, kdtree=False,\n",
    "                                              calculate_tpcf=True, n_thread=20)"
   ]
  },
  {
   "cell_type": "markdown",
   "metadata": {},
   "source": [
    "# Plots"
   ]
  },
  {
   "cell_type": "code",
   "execution_count": null,
   "metadata": {
    "collapsed": true
   },
   "outputs": [],
   "source": [
    "C_ell_Planck_AGN80_bin2_raw = np.loadtxt(\"/home/aha25/RCSLenS_new/Ian_sims/FT/AGN_Planck_Cl_kappa_bin2_y_smooth.dat\")\n",
    "C_ell_Planck_AGN80_bin2_raw = C_ell_Planck_AGN80_bin2_raw[1:70]\n",
    "C_ell_WMAP7_AGN80_bin2_raw = np.loadtxt(\"/home/aha25/RCSLenS_new/Ian_sims/FT/AGN_WMAP7_Cl_kappa_bin2_y_smooth.dat\")\n",
    "C_ell_WMAP7_AGN80_bin2_raw = C_ell_WMAP7_AGN80_bin2_raw[1:70]\n",
    "\n",
    "C_ell_WMAP7_AGN80_CFHTLenS_raw = np.loadtxt(\"/data/aha25/tSZ/Cl_kappa_y_simulation/AGN_WMAP7_Cl_kappa_y.dat\")\n",
    "C_ell_WMAP7_AGN80_CFHTLenS_raw = C_ell_WMAP7_AGN80_CFHTLenS_raw[1:70]"
   ]
  },
  {
   "cell_type": "code",
   "execution_count": null,
   "metadata": {
    "collapsed": false
   },
   "outputs": [],
   "source": [
    "plt.loglog(C_ell_WMAP7_AGN80_bin2_raw[:,0], C_ell_WMAP7_AGN80_bin2_raw[:,0]*C_ell_WMAP7_AGN80_bin2_raw[:,1])\n",
    "plt.loglog(C_ell_WMAP7_AGN80_CFHTLenS_raw[:,0], C_ell_WMAP7_AGN80_CFHTLenS_raw[:,0]*C_ell_WMAP7_AGN80_CFHTLenS_raw[:,1])"
   ]
  },
  {
   "cell_type": "markdown",
   "metadata": {},
   "source": [
    "### Computing the Fourier space power spectrum, real space correlation function :"
   ]
  },
  {
   "cell_type": "code",
   "execution_count": null,
   "metadata": {
    "collapsed": false
   },
   "outputs": [],
   "source": [
    "ell_log_C_ell_Planck_AGN80_bin2_intp = scipy.interpolate.InterpolatedUnivariateSpline(np.log(C_ell_Planck_AGN80_bin2_raw[:,0]), np.log(C_ell_Planck_AGN80_bin2_raw[:,0]*C_ell_Planck_AGN80_bin2_raw[:,1]), ext=\"const\")\n",
    "ell_log_C_ell_WMAP7_AGN80_bin2_intp = scipy.interpolate.InterpolatedUnivariateSpline(np.log(C_ell_WMAP7_AGN80_bin2_raw[:,0]), np.log(C_ell_WMAP7_AGN80_bin2_raw[:,0]*C_ell_WMAP7_AGN80_bin2_raw[:,1]), ext=\"const\")\n",
    "ell_log_C_ell_WMAP7_AGN80_CFHTLenS_intp = scipy.interpolate.InterpolatedUnivariateSpline(np.log(C_ell_WMAP7_AGN80_CFHTLenS_raw[:,0]), np.log(C_ell_WMAP7_AGN80_CFHTLenS_raw[:,0]*C_ell_WMAP7_AGN80_CFHTLenS_raw[:,1]), ext=\"const\")\n",
    "\n",
    "C_ell_Planck_AGN80_bin2 = lambda ell: np.exp(ell_log_C_ell_Planck_AGN80_bin2_intp(np.log(ell)))/ell\n",
    "C_ell_WMAP7_AGN80_bin2 = lambda ell: np.exp(ell_log_C_ell_WMAP7_AGN80_bin2_intp(np.log(ell)))/ell\n",
    "C_ell_WMAP7_AGN80_CFHTLenS = lambda ell: np.exp(ell_log_C_ell_WMAP7_AGN80_CFHTLenS_intp(np.log(ell)))/ell\n",
    "\n",
    "ell = np.arange(1, C_ell_Planck_AGN80_bin2_raw[-1,0]+1)\n",
    "\n",
    "theta_th = np.linspace(0.1, 181.0, 80.0)\n",
    "\n",
    "xi_th_kappa_Planck_AGN80_bin2 = np.zeros_like(theta_th)\n",
    "xi_th_g_t_Planck_AGN80_bin2 = np.zeros_like(theta_th)\n",
    "xi_th_kappa_WMAP7_AGN80_bin2 = np.zeros_like(theta_th)\n",
    "xi_th_g_t_WMAP7_AGN80_bin2 = np.zeros_like(theta_th)\n",
    "xi_th_kappa_WMAP7_AGN80_CFHTLenS = np.zeros_like(theta_th)\n",
    "xi_th_g_t_WMAP7_AGN80_CFHTLenS = np.zeros_like(theta_th)\n",
    "\n",
    "sigma_Planck = 9.5/60.0/180.0*pi/(2.0*np.sqrt(2.0* np.log(2.0)))\n",
    "Planck_smoothing = np.exp(-sigma_Planck**2*ell**2/2.0)\n",
    "sigma_RCSLenS = 2.0/60.0/180.0*pi\n",
    "RCSLenS_smoothing = np.exp(-sigma_RCSLenS**2*ell**2/2.0)\n",
    "\n",
    "for i in range(len(theta_th)):\n",
    "    xi_th_kappa_Planck_AGN80_bin2[i] = 1.0e-11*1.0/(2.0*pi) * np.sum(C_ell_Planck_AGN80_bin2(ell) * ell * scipy.special.jv(0, ell*theta_th[i]/60.0/180.0*pi))\n",
    "    xi_th_g_t_Planck_AGN80_bin2[i] = 1.0e-11*1.0/(2.0*pi) * np.sum(C_ell_Planck_AGN80_bin2(ell) * ell * scipy.special.jv(2, ell*theta_th[i]/60.0/180.0*pi))\n",
    "    xi_th_kappa_WMAP7_AGN80_bin2[i] = 1.0e-11*1.0/(2.0*pi) * np.sum(C_ell_WMAP7_AGN80_bin2(ell) * ell * scipy.special.jv(0, ell*theta_th[i]/60.0/180.0*pi))\n",
    "    xi_th_g_t_WMAP7_AGN80_bin2[i] = 1.0e-11*1.0/(2.0*pi) * np.sum(C_ell_WMAP7_AGN80_bin2(ell) * ell * scipy.special.jv(2, ell*theta_th[i]/60.0/180.0*pi))\n",
    "    xi_th_kappa_WMAP7_AGN80_CFHTLenS[i] = 1.0e-11*1.0/(2.0*pi) * np.sum(C_ell_WMAP7_AGN80_CFHTLenS(ell)*Planck_smoothing * ell * scipy.special.jv(0, ell*theta_th[i]/60.0/180.0*pi))\n",
    "    xi_th_g_t_WMAP7_AGN80_CFHTLenS[i] = 1.0e-11*1.0/(2.0*pi) * np.sum(C_ell_WMAP7_AGN80_CFHTLenS(ell)*Planck_smoothing * ell * scipy.special.jv(2, ell*theta_th[i]/60.0/180.0*pi))"
   ]
  },
  {
   "cell_type": "code",
   "execution_count": null,
   "metadata": {
    "collapsed": false
   },
   "outputs": [],
   "source": [
    "ell = C_ell_WMAP7_AGN80_CFHTLenS_raw[:,0]\n",
    "\n",
    "sigma_Planck = 9.5/60.0/180.0*pi/(2.0*np.sqrt(2.0* np.log(2.0)))\n",
    "Planck_smoothing = np.exp(-sigma_Planck**2*ell**2/2.0)\n",
    "sigma_RCSLenS = 2.0/60.0/180.0*pi\n",
    "RCSLenS_smoothing = np.exp(-sigma_RCSLenS**2*ell**2/2.0)\n",
    "for i in range(len(theta_th)):\n",
    "    xi_th_kappa_WMAP7_AGN80_CFHTLenS[i] = 1.0e-9*1.0/(2.0*pi) * np.sum(C_ell_WMAP7_AGN80_CFHTLenS_raw[:,1]*Planck_smoothing*RCSLenS_smoothing * ell * scipy.special.jv(0, ell*theta_th[i]/60.0/180.0*pi))\n",
    "    xi_th_g_t_WMAP7_AGN80_CFHTLenS[i] = 1.0e-9*1.0/(2.0*pi) * np.sum(C_ell_WMAP7_AGN80_CFHTLenS_raw[:,1]*Planck_smoothing*RCSLenS_smoothing * ell * scipy.special.jv(2, ell*theta_th[i]/60.0/180.0*pi))"
   ]
  },
  {
   "cell_type": "code",
   "execution_count": null,
   "metadata": {
    "collapsed": true
   },
   "outputs": [],
   "source": [
    "def load_xi(base_path, covariance, n_bin):\n",
    "    xi = np.loadtxt(base_path + \"xi.dat\")\n",
    "    xi_E_cov = np.loadtxt(base_path + \"{}\".format(covariance))[:n_bin,:]\n",
    "    xi_B_cov = np.loadtxt(base_path + \"{}\".format(covariance))[n_bin:,:]\n",
    "    return {\"xi\" : xi, \"xi_E_cov\" : xi_E_cov, \"xi_B_cov\" : xi_B_cov}\n",
    "\n",
    "def stack_simulations(base_path, N_sims, filter_type, n_bin):\n",
    "    sims_xi = np.zeros((N_sims, n_bin, 3))\n",
    "    xi = np.zeros((n_bin, 3))\n",
    "    for i in range(N_sims):\n",
    "        tmp = np.loadtxt(base_path + \"{}/{}/xi.dat\".format(i, filter_type))\n",
    "        sims_xi[i] = tmp[:,1:4]\n",
    "        xi[:,0] = tmp[:,0]\n",
    "        \n",
    "    xi[:,1] = np.sum(sims_xi[:,:,0]*sims_xi[:,:,2], axis=0)/np.sum(sims_xi[:,:,2], axis=0)\n",
    "    xi[:,2] = np.sum(sims_xi[:,:,1]*sims_xi[:,:,2], axis=0)/np.sum(sims_xi[:,:,2], axis=0)\n",
    "    xi_E_cov = np.cov(sims_xi[:,:,0].T, ddof=1)\n",
    "    xi_B_cov = np.cov(sims_xi[:,:,1].T, ddof=1)\n",
    "    return {\"xi\" : xi, \"xi_E_cov\" : xi_E_cov, \"xi_B_cov\" : xi_B_cov}"
   ]
  },
  {
   "cell_type": "code",
   "execution_count": null,
   "metadata": {
    "collapsed": true
   },
   "outputs": [],
   "source": [
    "xi_kappa = collections.OrderedDict()\n",
    "xi_shear = collections.OrderedDict()"
   ]
  }
 ],
 "metadata": {
  "kernelspec": {
   "display_name": "Python 2",
   "language": "python",
   "name": "python2"
  },
  "language_info": {
   "codemirror_mode": {
    "name": "ipython",
    "version": 2
   },
   "file_extension": ".py",
   "mimetype": "text/x-python",
   "name": "python",
   "nbconvert_exporter": "python",
   "pygments_lexer": "ipython2",
   "version": "2.7.10"
  }
 },
 "nbformat": 4,
 "nbformat_minor": 0
}
